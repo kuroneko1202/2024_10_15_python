{
 "cells": [
  {
   "cell_type": "code",
   "execution_count": 1,
   "metadata": {},
   "outputs": [
    {
     "data": {
      "text/plain": [
       "array([[1, 2, 3],\n",
       "       [4, 5, 6]])"
      ]
     },
     "execution_count": 1,
     "metadata": {},
     "output_type": "execute_result"
    }
   ],
   "source": [
    "import numpy as np\n",
    "\n",
    "np.array([[1, 2, 3],[4, 5, 6]])"
   ]
  },
  {
   "cell_type": "code",
   "execution_count": 2,
   "metadata": {},
   "outputs": [
    {
     "data": {
      "text/plain": [
       "array([[87, 99, 52, 50, 55],\n",
       "       [76, 94, 82, 75, 77],\n",
       "       [70, 96, 64, 84, 76],\n",
       "       [82, 53, 51, 81, 95],\n",
       "       [74, 87, 83, 51, 71],\n",
       "       [88, 73, 61, 51, 91],\n",
       "       [72, 61, 99, 91, 51],\n",
       "       [80, 97, 99, 81, 98],\n",
       "       [74, 62, 62, 65, 75],\n",
       "       [99, 83, 64, 71, 93],\n",
       "       [88, 51, 89, 89, 97],\n",
       "       [95, 99, 75, 92, 82],\n",
       "       [91, 98, 76, 99, 96],\n",
       "       [61, 55, 82, 96, 66],\n",
       "       [95, 60, 97, 85, 96],\n",
       "       [69, 58, 95, 67, 94],\n",
       "       [66, 58, 80, 67, 93],\n",
       "       [52, 75, 99, 86, 68],\n",
       "       [97, 79, 78, 92, 58],\n",
       "       [75, 83, 63, 97, 57],\n",
       "       [82, 65, 54, 59, 95],\n",
       "       [99, 58, 80, 59, 67],\n",
       "       [82, 78, 65, 81, 56],\n",
       "       [73, 98, 85, 94, 55],\n",
       "       [50, 75, 68, 74, 83],\n",
       "       [90, 89, 78, 90, 63],\n",
       "       [89, 68, 83, 85, 96],\n",
       "       [81, 55, 68, 94, 72],\n",
       "       [50, 95, 90, 81, 65],\n",
       "       [52, 69, 83, 76, 90],\n",
       "       [81, 67, 50, 81, 72],\n",
       "       [55, 87, 58, 71, 57],\n",
       "       [96, 83, 77, 57, 78],\n",
       "       [94, 83, 94, 50, 91],\n",
       "       [91, 68, 73, 80, 80],\n",
       "       [96, 82, 70, 93, 84],\n",
       "       [84, 88, 78, 84, 62],\n",
       "       [54, 78, 54, 72, 92],\n",
       "       [56, 99, 68, 65, 52],\n",
       "       [96, 57, 71, 68, 82],\n",
       "       [60, 72, 57, 59, 91],\n",
       "       [77, 52, 81, 70, 61],\n",
       "       [61, 55, 76, 85, 82],\n",
       "       [73, 79, 97, 63, 77],\n",
       "       [72, 94, 80, 88, 99],\n",
       "       [84, 73, 99, 57, 74],\n",
       "       [94, 54, 90, 62, 84],\n",
       "       [59, 69, 80, 83, 88],\n",
       "       [55, 69, 90, 77, 52],\n",
       "       [92, 84, 62, 69, 92]])"
      ]
     },
     "execution_count": 2,
     "metadata": {},
     "output_type": "execute_result"
    }
   ],
   "source": [
    "np.random.randint(50,100,size=(50, 5))"
   ]
  },
  {
   "cell_type": "code",
   "execution_count": null,
   "metadata": {},
   "outputs": [],
   "source": [
    "np.random.randint(50,100,size=(3, 50, 5))"
   ]
  },
  {
   "cell_type": "code",
   "execution_count": 4,
   "metadata": {},
   "outputs": [
    {
     "data": {
      "text/plain": [
       "((3, 50, 5), 750, 3, dtype('int64'))"
      ]
     },
     "execution_count": 4,
     "metadata": {},
     "output_type": "execute_result"
    }
   ],
   "source": [
    "#查詢的property->shape,size,dtype,ndim\n",
    "\n",
    "grade5 = np.random.randint(50,100,size=(3, 50, 5))\n",
    "grade5.shape, grade5.size, grade5.ndim, grade5.dtype"
   ]
  }
 ],
 "metadata": {
  "kernelspec": {
   "display_name": "Python 3",
   "language": "python",
   "name": "python3"
  },
  "language_info": {
   "codemirror_mode": {
    "name": "ipython",
    "version": 3
   },
   "file_extension": ".py",
   "mimetype": "text/x-python",
   "name": "python",
   "nbconvert_exporter": "python",
   "pygments_lexer": "ipython3",
   "version": "3.10.15"
  }
 },
 "nbformat": 4,
 "nbformat_minor": 2
}
