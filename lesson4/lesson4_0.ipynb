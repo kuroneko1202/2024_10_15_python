{
 "cells": [
  {
   "cell_type": "code",
   "execution_count": null,
   "metadata": {},
   "outputs": [],
   "source": [
    "# 公斤轉換為磅\n",
    "KILLO_TO_POUND = 2.20426 \n",
    "kilograms = float(input(\"請輸入公斤：\"))\n",
    "pounds = KILLO_TO_POUND * kilograms\n",
    "print(f'{kilograms} 公斤 = {pounds:.2f} 磅')\n",
    "\n",
    "# 磅轉換為公斤\n",
    "pounds = float(input(\"請輸入磅：\"))\n",
    "kilograms = pounds / KILLO_TO_POUND\n",
    "print(f'{pounds} 磅 = {kilograms:.2f} 公斤')"
   ]
  }
 ],
 "metadata": {
  "kernelspec": {
   "display_name": "Python 3",
   "language": "python",
   "name": "python3"
  },
  "language_info": {
   "name": "python",
   "version": "3.10.15"
  }
 },
 "nbformat": 4,
 "nbformat_minor": 2
}
