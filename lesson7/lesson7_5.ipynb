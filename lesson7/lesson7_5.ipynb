{
 "cells": [
  {
   "cell_type": "code",
   "execution_count": 13,
   "metadata": {},
   "outputs": [],
   "source": [
    "#dict->dictionary\n",
    "code:dict = {\n",
    "    'tw':'Taiwan',\n",
    "    'jp':'Japan',\n",
    "    'hk':'Hong kong'\n",
    "}"
   ]
  },
  {
   "cell_type": "code",
   "execution_count": 11,
   "metadata": {},
   "outputs": [
    {
     "data": {
      "text/plain": [
       "('Taiwan', 'Japan', 'Hong kong')"
      ]
     },
     "execution_count": 11,
     "metadata": {},
     "output_type": "execute_result"
    }
   ],
   "source": [
    "#subscript->[key]\n",
    "code['tw'], code['jp'], code['hk']"
   ]
  },
  {
   "cell_type": "code",
   "execution_count": 15,
   "metadata": {},
   "outputs": [
    {
     "name": "stdout",
     "output_type": "stream",
     "text": [
      "tw\n",
      "Taiwan\n",
      "===============\n",
      "jp\n",
      "Japan\n",
      "===============\n",
      "hk\n",
      "Hong kong\n",
      "===============\n"
     ]
    }
   ],
   "source": [
    "for key in code:\n",
    "    print(key)\n",
    "    print(code[key])\n",
    "    print(\"===============\")"
   ]
  },
  {
   "cell_type": "code",
   "execution_count": 17,
   "metadata": {},
   "outputs": [
    {
     "name": "stdout",
     "output_type": "stream",
     "text": [
      "tw\n",
      "Taiwan\n",
      "=====================\n",
      "jp\n",
      "Japan\n",
      "=====================\n",
      "hk\n",
      "Hong kong\n",
      "=====================\n"
     ]
    }
   ],
   "source": [
    "for key,value in code.items():\n",
    "    print(key)\n",
    "    print(value)\n",
    "    print(\"=====================\")\n"
   ]
  }
 ],
 "metadata": {
  "kernelspec": {
   "display_name": "Python 3",
   "language": "python",
   "name": "python3"
  },
  "language_info": {
   "codemirror_mode": {
    "name": "ipython",
    "version": 3
   },
   "file_extension": ".py",
   "mimetype": "text/x-python",
   "name": "python",
   "nbconvert_exporter": "python",
   "pygments_lexer": "ipython3",
   "version": "3.10.15"
  }
 },
 "nbformat": 4,
 "nbformat_minor": 2
}
