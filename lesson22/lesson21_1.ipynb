{
 "cells": [
  {
   "cell_type": "code",
   "execution_count": 4,
   "metadata": {},
   "outputs": [],
   "source": [
    "import os\n",
    "from dotenv import load_dotenv\n",
    "load_dotenv()\n",
    "key=os.environ['Gemini_API_KEY']"
   ]
  },
  {
   "cell_type": "code",
   "execution_count": 5,
   "metadata": {},
   "outputs": [
    {
     "name": "stdout",
     "output_type": "stream",
     "text": [
      "```html\n",
      "<!DOCTYPE html>\n",
      "<html lang=\"zh-TW\">\n",
      "<head>\n",
      "    <meta charset=\"UTF-8\">\n",
      "    <meta name=\"viewport\" content=\"width=device-width, initial-scale=1.0\">\n",
      "    <title>如何學習 Python</title>\n",
      "    <style>\n",
      "        body {\n",
      "            font-family: sans-serif;\n",
      "            line-height: 1.6;\n",
      "        }\n",
      "        h1, h2 {\n",
      "            color: #333;\n",
      "        }\n",
      "        ul {\n",
      "            list-style-type: disc;\n",
      "            margin-left: 20px;\n",
      "        }\n",
      "        a {\n",
      "            color: #007bff;\n",
      "            text-decoration: none;\n",
      "        }\n",
      "        a:hover {\n",
      "            text-decoration: underline;\n",
      "        }\n",
      "    </style>\n",
      "</head>\n",
      "<body>\n",
      "    <h1>如何學習 Python</h1>\n",
      "\n",
      "    <p>學習 Python 是一個循序漸進的過程，以下是一些建議：</p>\n",
      "\n",
      "    <h2>步驟一：選擇學習資源</h2>\n",
      "    <ul>\n",
      "        <li><strong>線上課程：</strong>\n",
      "            <ul>\n",
      "                <li><a href=\"https://www.codecademy.com/learn/learn-python-3\" target=\"_blank\">Codecademy</a> (互動式教學，適合初學者)</li>\n",
      "                <li><a href=\"https://www.coursera.org/learn/python\" target=\"_blank\">Coursera</a> (提供多種 Python 課程，有些需要付費)</li>\n",
      "                <li><a href=\"https://www.udemy.com/topic/python/\" target=\"_blank\">Udemy</a> (大量的 Python 課程，價格範圍廣泛)</li>\n",
      "                <li><a href=\"https://www.youtube.com/results?search_query=python+tutorial\" target=\"_blank\">YouTube 教程</a> (許多免費的教學影片)</li>\n",
      "            </ul>\n",
      "        </li>\n",
      "        <li><strong>書籍：</strong>  許多優秀的 Python 教學書籍，可以到書店或線上書城搜尋。</li>\n",
      "        <li><strong>官方文件：</strong> <a href=\"https://docs.python.org/3/\" target=\"_blank\">Python 官方文件</a>  (完整且詳盡，適合有一定基礎後查閱)</li>\n",
      "    </ul>\n",
      "\n",
      "\n",
      "    <h2>步驟二：設定學習環境</h2>\n",
      "    <ul>\n",
      "        <li><strong>安裝 Python：</strong> 從 <a href=\"https://www.python.org/downloads/\" target=\"_blank\">Python 官方網站</a> 下載並安裝適合你作業系統的版本。</li>\n",
      "        <li><strong>選擇 IDE 或文字編輯器：</strong>\n",
      "            <ul>\n",
      "                <li>IDE (整合開發環境):  例如 PyCharm (功能強大，有免費版本), VS Code (輕量且可擴展)</li>\n",
      "                <li>文字編輯器:  例如 Sublime Text, Atom (需要額外安裝 Python 插件)</li>\n",
      "            </ul>\n",
      "        </li>\n",
      "    </ul>\n",
      "\n",
      "    <h2>步驟三：學習內容</h2>\n",
      "    <ul>\n",
      "        <li><strong>基礎語法：</strong> 變數、資料類型、運算子、條件判斷、迴圈</li>\n",
      "        <li><strong>資料結構：</strong> 列表、元組、字典、集合</li>\n",
      "        <li><strong>函數：</strong> 定義和呼叫函數</li>\n",
      "        <li><strong>物件導向程式設計 (OOP):</strong> 類別、物件、繼承、多型</li>\n",
      "        <li><strong>模組和套件：</strong> 學習如何使用現有的模組和套件，例如 NumPy, Pandas, Matplotlib 等</li>\n",
      "        <li><strong>檔案處理：</strong> 讀寫檔案</li>\n",
      "        <li><strong>錯誤處理：</strong> try...except 語法</li>\n",
      "    </ul>\n",
      "\n",
      "    <h2>步驟四：實作練習</h2>\n",
      "    <p>學習程式設計最重要的是實作練習，嘗試解決不同的問題，建立自己的專案。</p>\n",
      "\n",
      "    <h2>步驟五：持續學習</h2>\n",
      "    <p>Python 的世界非常廣闊，持續學習新的知識和技術才能不斷進步。</p>\n",
      "\n",
      "</body>\n",
      "</html>\n",
      "```\n",
      "\n"
     ]
    }
   ],
   "source": [
    "import google.generativeai as genai\n",
    "\n",
    "genai.configure(api_key=key)\n",
    "model = genai.GenerativeModel(\"gemini-1.5-flash\")\n",
    "response = model.generate_content(\"如何學習python?,回應請輸出成為html格式\")\n",
    "print(response.text)"
   ]
  }
 ],
 "metadata": {
  "kernelspec": {
   "display_name": "Python 3",
   "language": "python",
   "name": "python3"
  },
  "language_info": {
   "codemirror_mode": {
    "name": "ipython",
    "version": 3
   },
   "file_extension": ".py",
   "mimetype": "text/x-python",
   "name": "python",
   "nbconvert_exporter": "python",
   "pygments_lexer": "ipython3",
   "version": "3.10.15"
  }
 },
 "nbformat": 4,
 "nbformat_minor": 2
}
