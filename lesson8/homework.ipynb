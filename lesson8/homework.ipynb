{
 "cells": [
  {
   "cell_type": "code",
   "execution_count": 1,
   "metadata": {},
   "outputs": [
    {
     "name": "stdout",
     "output_type": "stream",
     "text": [
      "請輸入人數:3\n",
      "姓名: 盧文啟\n",
      "身高: 147\n",
      "體重: 98\n",
      "BMI:  45.35\n",
      "狀態: 重度肥胖\n",
      "======================\n",
      "姓名: 高俊男\n",
      "身高: 153\n",
      "體重: 60\n",
      "BMI:  25.63\n",
      "狀態: 過重\n",
      "======================\n",
      "姓名: 張雅芬\n",
      "身高: 146\n",
      "體重: 81\n",
      "BMI:  38.00\n",
      "狀態: 重度肥胖\n",
      "======================\n"
     ]
    }
   ],
   "source": [
    "import random\n",
    "def get_names(nums:int=2)->list[str]:\n",
    "    with open(\"names.txt\",mode=\"r\",encoding=\"utf-8\") as file:\n",
    "        names_str = file.read()\n",
    "    names:list[str] = names_str.split(sep='\\n')\n",
    "    names = random.choices(names,k=nums)\n",
    "    return names\n",
    "\n",
    "def generate_bmi(names:list[str]) ->list[dict]:\n",
    "    student_status:list[dict] = []     #生成一個空的list\n",
    "    for name in names:\n",
    "        height = random.randint(140,190)    # 生成身高140~190公分\n",
    "        weight = random.randint(50,110)     # 生成體重50~110公斤\n",
    "        BMI = weight / ((height/100)**2)    # 計算bmi\n",
    "\n",
    "        if BMI >=35:                        \n",
    "            status = \"重度肥胖\"\n",
    "        elif BMI >= 30:\n",
    "            status = \"中度肥胖\"\n",
    "        elif BMI >= 27:\n",
    "            status = \"輕度肥胖\"\n",
    "        elif BMI >= 24:\n",
    "            status = \"過重\"\n",
    "        elif BMI >= 18.5:\n",
    "            status = \"正常範圍\"\n",
    "        else:\n",
    "            status = \"體重過輕\" \n",
    "\n",
    "        student = {\"姓名\": name,\"身高\":height,\"體重\":weight,\"BMI\":f\"{BMI:.2f}\",\"狀態\":status}\n",
    "        student_status.append(student)\n",
    "\n",
    "    return student_status\n",
    "\n",
    "\n",
    "nums = int(input(\"請輸入人數\")) #取得輸入的數量\n",
    "print(f\"請輸入人數:{nums}\")\n",
    "\n",
    "student_names:list[str] = get_names(nums=nums) #取得剛剛輸入數量人數的姓名\n",
    "\n",
    "student_status:list[dict] = generate_bmi(names=student_names) #取得輸入人數的各種狀態的資料\n",
    "for student in student_status:\n",
    "    print(f\"姓名: {student['姓名']}\")  #student['姓名']:name  key:value\n",
    "    print(f\"身高: {student['身高']}\")\n",
    "    print(f\"體重: {student['體重']}\")\n",
    "    print(f\"BMI:  {student['BMI']}\")\n",
    "    print(f\"狀態: {student['狀態']}\")\n",
    "    print(\"======================\")  "
   ]
  }
 ],
 "metadata": {
  "kernelspec": {
   "display_name": "Python 3",
   "language": "python",
   "name": "python3"
  },
  "language_info": {
   "codemirror_mode": {
    "name": "ipython",
    "version": 3
   },
   "file_extension": ".py",
   "mimetype": "text/x-python",
   "name": "python",
   "nbconvert_exporter": "python",
   "pygments_lexer": "ipython3",
   "version": "3.10.15"
  }
 },
 "nbformat": 4,
 "nbformat_minor": 2
}
