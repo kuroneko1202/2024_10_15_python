{
 "cells": [
  {
   "cell_type": "code",
   "execution_count": null,
   "metadata": {},
   "outputs": [],
   "source": [
    "import pandas as pd\n",
    "df = pd.read_csv('上市公司資料.csv')\n",
    "\n",
    "# 選取要留下的欄位\n",
    "df1 = df[['公司代號', '公司名稱', '產業別',\n",
    "          '營業收入-當月營收','營業收入-上月營收',\n",
    "          '營業收入-上月比較增減(%)','營業收入-去年同月增減(%)']]\n",
    "\n",
    "# 將'公司代號'轉換為字串  原本類型是int 資料視覺化後會變成1,102\n",
    "df2 = df1.astype({'公司代號':'str'})\n",
    "\n",
    "# 查看資料的信息\n",
    "# df2['營業收入-上月比較增減(%)'].info() #原本的資料類型是float\n",
    "\n",
    "# 讓資料數據後面都加上%\n",
    "df2['營業收入-上月比較增減(%)'] = df2['營業收入-上月比較增減(%)'].apply(lambda value: f\"{value:.2f}%\")\n",
    "df2['營業收入-去年同月增減(%)'] = df2['營業收入-去年同月增減(%)'].apply(lambda value: f\"{value:.2f}%\")\n",
    "\n",
    "# df2['營業收入-上月比較增減(%)'].info()  #資料類型變成str \n",
    "\n",
    "# 資料視覺化\n",
    "df2.style.format(thousands=',')\\\n",
    "    .format_index(lambda value: f'第{value+1}號') #讓索引從1開始"
   ]
  },
  {
   "cell_type": "code",
   "execution_count": null,
   "metadata": {},
   "outputs": [],
   "source": [
    "import pandas as pd\n",
    "df = pd.read_csv('上市公司資料.csv')\n",
    "\n",
    "# 選取要留下的欄位\n",
    "df1 = df[['公司代號', '公司名稱', '產業別',\n",
    "          '營業收入-當月營收','營業收入-上月營收',\n",
    "          '營業收入-上月比較增減(%)','營業收入-去年同月增減(%)']]\n",
    "df2 = df1.astype({'公司代號':'str'})"
   ]
  }
 ],
 "metadata": {
  "kernelspec": {
   "display_name": "Python 3",
   "language": "python",
   "name": "python3"
  },
  "language_info": {
   "codemirror_mode": {
    "name": "ipython",
    "version": 3
   },
   "file_extension": ".py",
   "mimetype": "text/x-python",
   "name": "python",
   "nbconvert_exporter": "python",
   "pygments_lexer": "ipython3",
   "version": "3.10.15"
  }
 },
 "nbformat": 4,
 "nbformat_minor": 2
}
