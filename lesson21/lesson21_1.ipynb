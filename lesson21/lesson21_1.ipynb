{
 "cells": [
  {
   "cell_type": "code",
   "execution_count": 1,
   "metadata": {},
   "outputs": [],
   "source": [
    "import os\n",
    "key=os.environ['Gemini_API_KEY']"
   ]
  },
  {
   "cell_type": "code",
   "execution_count": 2,
   "metadata": {},
   "outputs": [
    {
     "name": "stderr",
     "output_type": "stream",
     "text": [
      "/home/vscode/.local/lib/python3.10/site-packages/tqdm/auto.py:21: TqdmWarning: IProgress not found. Please update jupyter and ipywidgets. See https://ipywidgets.readthedocs.io/en/stable/user_install.html\n",
      "  from .autonotebook import tqdm as notebook_tqdm\n"
     ]
    },
    {
     "name": "stdout",
     "output_type": "stream",
     "text": [
      "```html\n",
      "<!DOCTYPE html>\n",
      "<html lang=\"zh-TW\">\n",
      "<head>\n",
      "    <meta charset=\"UTF-8\">\n",
      "    <meta name=\"viewport\" content=\"width=device-width, initial-scale=1.0\">\n",
      "    <title>如何學習 Python</title>\n",
      "    <style>\n",
      "        body {\n",
      "            font-family: sans-serif;\n",
      "            line-height: 1.6;\n",
      "        }\n",
      "        h1, h2 {\n",
      "            color: #333;\n",
      "        }\n",
      "        ul {\n",
      "            list-style-type: disc;\n",
      "            margin-left: 20px;\n",
      "        }\n",
      "        a {\n",
      "            color: #007bff;\n",
      "            text-decoration: none;\n",
      "        }\n",
      "        a:hover {\n",
      "            text-decoration: underline;\n",
      "        }\n",
      "    </style>\n",
      "</head>\n",
      "<body>\n",
      "\n",
      "    <h1>如何學習 Python</h1>\n",
      "\n",
      "    <p>學習 Python 是一個循序漸進的過程，以下是一些建議：</p>\n",
      "\n",
      "    <h2>1. 選擇學習資源</h2>\n",
      "    <ul>\n",
      "        <li><strong>線上課程：</strong>\n",
      "            <ul>\n",
      "                <li><a href=\"https://www.codecademy.com/learn/learn-python-3\" target=\"_blank\">Codecademy</a> (互動式教學，適合初學者)</li>\n",
      "                <li><a href=\"https://www.coursera.org/learn/python\" target=\"_blank\">Coursera</a> (提供多種 Python 課程，部分需付費)</li>\n",
      "                <li><a href=\"https://www.udemy.com/topic/python/\" target=\"_blank\">Udemy</a> (大量的 Python 課程，價格差異大)</li>\n",
      "                <li><a href=\"https://www.youtube.com/results?search_query=python+tutorial\" target=\"_blank\">YouTube</a> (許多免費教學影片，需自行篩選品質)</li>\n",
      "            </ul>\n",
      "        </li>\n",
      "        <li><strong>書籍：</strong>\n",
      "            <ul>\n",
      "                <li>《Python 编程：从入门到实践》</li>\n",
      "                <li>《流畅的 Python》 (適合有一定程式設計經驗者)</li>\n",
      "                <li>《Python Cookbook》 (針對特定問題的解決方案)</li>\n",
      "            </ul>\n",
      "        </li>\n",
      "        <li><strong>官方文件：</strong> <a href=\"https://docs.python.org/3/\" target=\"_blank\">Python 官方文件</a> (最權威的資源，適合有一定基礎後查閱)</li>\n",
      "    </ul>\n",
      "\n",
      "    <h2>2. 制定學習計畫</h2>\n",
      "    <p>根據自己的學習速度和目標，制定合理的學習計畫。  建議從基礎語法開始，循序漸進學習更進階的內容，例如：</p>\n",
      "    <ul>\n",
      "        <li>變數和資料類型</li>\n",
      "        <li>條件判斷和迴圈</li>\n",
      "        <li>函式</li>\n",
      "        <li>物件導向程式設計</li>\n",
      "        <li>檔案操作</li>\n",
      "        <li>資料庫操作</li>\n",
      "        <li>網路程式設計</li>\n",
      "    </ul>\n",
      "\n",
      "\n",
      "    <h2>3. 積極練習</h2>\n",
      "    <p>學習程式設計最重要的就是實作。  多練習寫程式，才能真正理解和掌握 Python 的概念。  可以嘗試：</p>\n",
      "    <ul>\n",
      "        <li>完成線上課程中的練習題</li>\n",
      "        <li>自己設計一些小專案</li>\n",
      "        <li>參與線上社群，與其他學習者交流</li>\n",
      "        <li>貢獻開源專案</li>\n",
      "    </ul>\n",
      "\n",
      "    <h2>4. 持之以恆</h2>\n",
      "    <p>學習程式設計需要時間和耐心，不要害怕遇到困難。  遇到問題時，可以參考文件、搜尋引擎或向他人請教。  持續學習和練習，你一定可以學會 Python！</p>\n",
      "\n",
      "\n",
      "</body>\n",
      "</html>\n",
      "```\n",
      "\n"
     ]
    }
   ],
   "source": [
    "import google.generativeai as genai\n",
    "\n",
    "genai.configure(api_key=key)\n",
    "model = genai.GenerativeModel(\"gemini-1.5-flash\")\n",
    "response = model.generate_content(\"如何學習python?,回應請輸出成為html格式\")\n",
    "print(response.text)"
   ]
  }
 ],
 "metadata": {
  "kernelspec": {
   "display_name": "Python 3",
   "language": "python",
   "name": "python3"
  },
  "language_info": {
   "codemirror_mode": {
    "name": "ipython",
    "version": 3
   },
   "file_extension": ".py",
   "mimetype": "text/x-python",
   "name": "python",
   "nbconvert_exporter": "python",
   "pygments_lexer": "ipython3",
   "version": "3.10.15"
  }
 },
 "nbformat": 4,
 "nbformat_minor": 2
}
