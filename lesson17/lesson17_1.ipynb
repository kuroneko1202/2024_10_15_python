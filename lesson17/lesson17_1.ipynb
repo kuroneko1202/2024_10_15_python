{
 "cells": [
  {
   "cell_type": "code",
   "execution_count": null,
   "metadata": {},
   "outputs": [],
   "source": [
    "import numpy as np\n",
    "import pandas as pd\n",
    "scores = np.random.randint(50,101,size=(50,5)) #50分到~100分 size=50,5 50個列 5個欄\n",
    "scores_df = pd.DataFrame(scores,index=range(1,51),columns=['國文', '英文', '數學', '地理', '歷史'])\n",
    "scores_df.index.name = \"學號\"\n",
    "scores_df.columns.name = \"科目\"\n",
    "scores_df"
   ]
  },
  {
   "cell_type": "code",
   "execution_count": 14,
   "metadata": {},
   "outputs": [],
   "source": [
    "sum_values = scores_df.sum(axis=1) #總和 sum_values是Series\n",
    "#display(sum_values)\n",
    "avg_values = scores_df.mean(axis=1) #平均\n",
    "#Rank() 排名\n",
    "rank_values = sum_values.rank(axis=0,method='first',ascending=False) #排名 \n"
   ]
  },
  {
   "cell_type": "code",
   "execution_count": null,
   "metadata": {},
   "outputs": [],
   "source": [
    "scores_df['總分'] = sum_values\n",
    "scores_df['平均'] = avg_values\n",
    "scores_df['排名'] = rank_values\n",
    "scores_df"
   ]
  },
  {
   "cell_type": "code",
   "execution_count": null,
   "metadata": {},
   "outputs": [],
   "source": [
    "#排序 DataFrame.sort_values\n",
    "scores_df.sort_values(by='排名')"
   ]
  }
 ],
 "metadata": {
  "kernelspec": {
   "display_name": "Python 3",
   "language": "python",
   "name": "python3"
  },
  "language_info": {
   "codemirror_mode": {
    "name": "ipython",
    "version": 3
   },
   "file_extension": ".py",
   "mimetype": "text/x-python",
   "name": "python",
   "nbconvert_exporter": "python",
   "pygments_lexer": "ipython3",
   "version": "3.10.15"
  }
 },
 "nbformat": 4,
 "nbformat_minor": 2
}
