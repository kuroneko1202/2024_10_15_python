{
 "cells": [
  {
   "cell_type": "code",
   "execution_count": null,
   "metadata": {
    "vscode": {
     "languageId": "plaintext"
    }
   },
   "outputs": [],
   "source": [
    "while(True):\n",
    "    try:\n",
    "        name = input(\"請輸入姓名:\")\n",
    "        height = eval(input(\"請輸入身高(cm):\"))\n",
    "        weight = eval(input(\"請輸入體重(kg):\"))\n",
    "        print(\"BMI的計算\")\n",
    "        print(f\"請輸入姓名:{name}\")\n",
    "        print(f\"請輸入身高(cm):{height}\")\n",
    "        print(f\"請輸入體重(kg):{weight}\")\n",
    "        BMI = weight / ((height/100)**2)\n",
    "        print(f\"{name}的BMI值:{BMI:.2f}\")\n",
    "        if BMI >=35:\n",
    "            print(f\"{name}的體重:重度肥胖\")\n",
    "        elif BMI >= 30:\n",
    "            print(f\"{name}的體重:中度肥胖\")\n",
    "        elif BMI >= 27:\n",
    "            print(f\"{name}的體重:輕度肥胖\")\n",
    "        elif BMI >= 24:\n",
    "            print(f\"{name}的體重:過重\")\n",
    "        elif BMI >= 18.5:\n",
    "            print(f\"{name}的體重:正常範圍\")\n",
    "        else:\n",
    "            print(f\"{name}的體重:體重過輕\")  \n",
    "    except Exception :\n",
    "        print(\"格式錯誤,請重新輸入\")\n",
    "        continue\n",
    "    value = input(\"您還要繼續嗎?(y繼續,n結束):\")\n",
    "    print(f\"您還要繼續嗎?(y繼續,n結束):{value}\")\n",
    "    print(\"=========================\")\n",
    "    if value.upper()=='N':\n",
    "        break\n",
    "print(\"應用程式結束\")"
   ]
  }
 ],
 "metadata": {
  "language_info": {
   "name": "python"
  }
 },
 "nbformat": 4,
 "nbformat_minor": 2
}
