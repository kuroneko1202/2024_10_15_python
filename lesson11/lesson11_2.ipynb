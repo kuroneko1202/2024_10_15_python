{
 "cells": [
  {
   "cell_type": "markdown",
   "metadata": {},
   "source": [
    "### 抓取CSV檔"
   ]
  },
  {
   "cell_type": "markdown",
   "metadata": {},
   "source": [
    "##### 建立檔案\n",
    "有檔案就用open \n",
    "\n",
    "如果是str用io裡面的 io.string "
   ]
  },
  {
   "cell_type": "code",
   "execution_count": 2,
   "metadata": {},
   "outputs": [
    {
     "name": "stdout",
     "output_type": "stream",
     "text": [
      "連線和下載成功\n"
     ]
    }
   ],
   "source": [
    "from requests import Response\n",
    "import requests\n",
    "url = 'https://data.moenv.gov.tw/api/v2/aqx_p_488?api_key=e8dd42e6-9b8b-43f8-991e-b3dee723a52d&limit=1000&sort=datacreationdate desc&format=CSV'\n",
    "try:\n",
    "    response:Response = requests.get(url)\n",
    "    response.raise_for_status()\n",
    "except Exception as e:   #Exception是全部錯誤的意思\n",
    "    print(f\"連線錯誤:{e}\")\n",
    "else:\n",
    "    print(\"連線和下載成功\")"
   ]
  },
  {
   "cell_type": "code",
   "execution_count": null,
   "metadata": {},
   "outputs": [],
   "source": [
    "import io \n",
    "import csv\n",
    "from csv import DictReader\n",
    "from pprint import pprint\n",
    "\n",
    "all_words:str = response.text\n",
    "file = io.StringIO(all_words) #純文字\n",
    "dictReader:DictReader = csv.DictReader(file)\n",
    "temp:list[dict] = list(dictReader) #temp是一個暫存的資料\n",
    "pprint(temp)\n"
   ]
  }
 ],
 "metadata": {
  "kernelspec": {
   "display_name": "Python 3",
   "language": "python",
   "name": "python3"
  },
  "language_info": {
   "codemirror_mode": {
    "name": "ipython",
    "version": 3
   },
   "file_extension": ".py",
   "mimetype": "text/x-python",
   "name": "python",
   "nbconvert_exporter": "python",
   "pygments_lexer": "ipython3",
   "version": "3.10.15"
  }
 },
 "nbformat": 4,
 "nbformat_minor": 2
}
