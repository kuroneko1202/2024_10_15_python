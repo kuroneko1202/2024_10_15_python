{
 "cells": [
  {
   "cell_type": "code",
   "execution_count": 18,
   "metadata": {},
   "outputs": [
    {
     "name": "stdout",
     "output_type": "stream",
     "text": [
      "請輸入人數:3\n",
      "[{'姓名': '余宗儒', '身高': '159公分', '體重': '87 公斤', 'bmi': '34.41', '狀態': '肥胖'}]\n"
     ]
    }
   ],
   "source": [
    "import random\n",
    "def get_names(nums:int=2)->list[str]:\n",
    "    with open(\"names.txt\",mode=\"r\",encoding=\"utf-8\") as file:\n",
    "        names_str = file.read()\n",
    "    names:list[str] = names_str.split(sep='\\n')\n",
    "    names = random.choices(names,k=nums)\n",
    "    return names\n",
    "\n",
    "def generate_bmi(names:list[str]) ->list[dict]:\n",
    "    for name in names:\n",
    "        student_status:list[dict] = []\n",
    "        height = random.randint(140,190)# 生成身高140~190公分\n",
    "        weight = random.randint(50,110) # 生成體重50~110公斤\n",
    "        bmi = weight / ((height/100)**2)# 計算bmi\n",
    "        if bmi < 18.5:                  # 判斷狀態\n",
    "            status = '過輕'\n",
    "        elif 18.5 <= bmi < 24:\n",
    "            status = '正常'\n",
    "        elif 24 <= bmi < 27:\n",
    "            status = '過重'\n",
    "        else:\n",
    "            status = '肥胖'\n",
    "        student = {\"姓名\":name,\"身高\":f\"{height}公分\",\"體重\":f\"{weight} 公斤\",\"bmi\":f\"{bmi:.2f}\",\"狀態\":status}\n",
    "        student_status.append(student)\n",
    "    return student_status\n",
    "\n",
    "\n",
    "nums = int(input(\"請輸入人數\")) #取得輸入的數量\n",
    "print(f\"請輸入人數:{nums}\")\n",
    "student_names:list[str] = get_names(nums=nums) #取得名子\n",
    "student1:list[dict] = generate_bmi(names=student_names) #取得信息\n",
    "\n",
    "print(student1)\n"
   ]
  },
  {
   "cell_type": "code",
   "execution_count": 19,
   "metadata": {},
   "outputs": [
    {
     "name": "stdout",
     "output_type": "stream",
     "text": [
      "[{'name': '景歡燦', 'chinese': 87, 'english': 85, 'math': 77}, {'name': '錢欣潔', 'chinese': 67, 'english': 58, 'math': 73}]\n"
     ]
    }
   ],
   "source": [
    "import random\n",
    "def get_names(nums:int=2)->list[str]:\n",
    "    with open(\"names.txt\",mode=\"r\",encoding=\"utf-8\") as file:\n",
    "        names_str = file.read()\n",
    "    names:list[str] = names_str.split(sep='\\n')\n",
    "    names = random.choices(names,k=nums)\n",
    "    return names\n",
    "\n",
    "def generate_students(names:list[str]) -> list[dict]:\n",
    "    students:list[dict] = []\n",
    "    for name in names:\n",
    "        chinese = random.randint(50, 100)\n",
    "        english = random.randint(50, 100)\n",
    "        math = random.randint(50, 100)\n",
    "        student = {'name':name,'chinese':chinese,'english':english,'math':math}\n",
    "        students.append(student)\n",
    "    return students  \n",
    "\n",
    "nums = int(input(\"請輸入學生數量(最多10位):\"))\n",
    "student_names:list[str] = get_names(nums=nums)\n",
    "students:list[dict] = generate_students(names=student_names)\n",
    "print(students)"
   ]
  }
 ],
 "metadata": {
  "kernelspec": {
   "display_name": "Python 3",
   "language": "python",
   "name": "python3"
  },
  "language_info": {
   "codemirror_mode": {
    "name": "ipython",
    "version": 3
   },
   "file_extension": ".py",
   "mimetype": "text/x-python",
   "name": "python",
   "nbconvert_exporter": "python",
   "pygments_lexer": "ipython3",
   "version": "3.10.15"
  }
 },
 "nbformat": 4,
 "nbformat_minor": 2
}
