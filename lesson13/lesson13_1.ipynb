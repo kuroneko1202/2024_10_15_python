{
 "cells": [
  {
   "cell_type": "code",
   "execution_count": null,
   "metadata": {},
   "outputs": [
    {
     "data": {
      "text/plain": [
       "numpy.ndarray"
      ]
     },
     "execution_count": 1,
     "metadata": {},
     "output_type": "execute_result"
    }
   ],
   "source": [
    "import numpy as np\n",
    "array1 = np.array([1, 2, 3, 4, 5])\n",
    "array1"
   ]
  },
  {
   "cell_type": "code",
   "execution_count": null,
   "metadata": {},
   "outputs": [],
   "source": [
    "array2 = np.array([9, 8, 7, 6, 5])\n",
    "array2 "
   ]
  },
  {
   "cell_type": "code",
   "execution_count": 7,
   "metadata": {},
   "outputs": [
    {
     "data": {
      "text/plain": [
       "array([10., 10., 10., 10., 10.])"
      ]
     },
     "execution_count": 7,
     "metadata": {},
     "output_type": "execute_result"
    }
   ],
   "source": [
    "array3 = array1 + array2\n",
    "array4 = array3 * 10\n",
    "array4 / 10"
   ]
  },
  {
   "cell_type": "code",
   "execution_count": 10,
   "metadata": {},
   "outputs": [
    {
     "data": {
      "text/plain": [
       "array([4.90988289e-310, 0.00000000e+000, 0.00000000e+000, 0.00000000e+000,\n",
       "       9.31054074e+242, 8.01386045e+165, 1.38054080e-047, 7.17812587e-091,\n",
       "       9.43694969e+164, 6.17042258e-310])"
      ]
     },
     "execution_count": 10,
     "metadata": {},
     "output_type": "execute_result"
    }
   ],
   "source": [
    "np.empty((10,))"
   ]
  },
  {
   "cell_type": "code",
   "execution_count": 15,
   "metadata": {},
   "outputs": [
    {
     "data": {
      "text/plain": [
       "array([0.5, 1. , 1.5, 2. , 2.5, 3. , 3.5, 4. , 4.5, 5. , 5.5, 6. , 6.5,\n",
       "       7. , 7.5, 8. , 8.5, 9. , 9.5])"
      ]
     },
     "execution_count": 15,
     "metadata": {},
     "output_type": "execute_result"
    }
   ],
   "source": [
    "np.arange(0.5,10,0.5)"
   ]
  },
  {
   "cell_type": "code",
   "execution_count": 17,
   "metadata": {},
   "outputs": [
    {
     "data": {
      "text/plain": [
       "array([-3.        , -2.87755102, -2.75510204, -2.63265306, -2.51020408,\n",
       "       -2.3877551 , -2.26530612, -2.14285714, -2.02040816, -1.89795918,\n",
       "       -1.7755102 , -1.65306122, -1.53061224, -1.40816327, -1.28571429,\n",
       "       -1.16326531, -1.04081633, -0.91836735, -0.79591837, -0.67346939,\n",
       "       -0.55102041, -0.42857143, -0.30612245, -0.18367347, -0.06122449,\n",
       "        0.06122449,  0.18367347,  0.30612245,  0.42857143,  0.55102041,\n",
       "        0.67346939,  0.79591837,  0.91836735,  1.04081633,  1.16326531,\n",
       "        1.28571429,  1.40816327,  1.53061224,  1.65306122,  1.7755102 ,\n",
       "        1.89795918,  2.02040816,  2.14285714,  2.26530612,  2.3877551 ,\n",
       "        2.51020408,  2.63265306,  2.75510204,  2.87755102,  3.        ])"
      ]
     },
     "execution_count": 17,
     "metadata": {},
     "output_type": "execute_result"
    }
   ],
   "source": [
    "np.linspace(-3,3)"
   ]
  }
 ],
 "metadata": {
  "kernelspec": {
   "display_name": "Python 3",
   "language": "python",
   "name": "python3"
  },
  "language_info": {
   "codemirror_mode": {
    "name": "ipython",
    "version": 3
   },
   "file_extension": ".py",
   "mimetype": "text/x-python",
   "name": "python",
   "nbconvert_exporter": "python",
   "pygments_lexer": "ipython3",
   "version": "3.10.15"
  }
 },
 "nbformat": 4,
 "nbformat_minor": 2
}
