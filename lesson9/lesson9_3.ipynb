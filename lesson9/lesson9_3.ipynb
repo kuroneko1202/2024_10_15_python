{
 "cells": [
  {
   "cell_type": "code",
   "execution_count": 14,
   "metadata": {},
   "outputs": [],
   "source": [
    "class Person(object): #第一個字要大寫\n",
    "    def __init__(self,name:str,age:int): #自訂的初始化,自訂參數\n",
    "        self.name = name #建立attribute name \n",
    "        self.age = age #建立attribute age\n",
    "    \n",
    "    def echo(self): #自訂的實體方法\n",
    "        print(f\"我的名字是{self.name}\")\n",
    "        print(f\"我的age是{self.age}\")\n",
    "\n",
    "class Student(Person):\n",
    "    def __init__(self,name:str,age:int,score:int):\n",
    "        super().__init__(name=name,age=age)\n",
    "        self.score = score\n",
    "    \n",
    "    def echo(self):\n",
    "        super().echo()\n",
    "        print(f\"我的分數是{self.score}\")"
   ]
  },
  {
   "cell_type": "code",
   "execution_count": 15,
   "metadata": {},
   "outputs": [
    {
     "name": "stdout",
     "output_type": "stream",
     "text": [
      "我的名字是Robert\n",
      "我的age是30\n",
      "我的分數是250\n"
     ]
    }
   ],
   "source": [
    "s1:Student = Student(name=\"Robert\",age=30,score=250)\n",
    "s1.echo()"
   ]
  },
  {
   "cell_type": "code",
   "execution_count": 3,
   "metadata": {},
   "outputs": [
    {
     "name": "stdout",
     "output_type": "stream",
     "text": [
      "我的名字是kenny\n",
      "我的age是20\n"
     ]
    }
   ],
   "source": [
    "s2:Student = Student(name=\"kenny\",age=20)\n",
    "s2.echo()"
   ]
  }
 ],
 "metadata": {
  "kernelspec": {
   "display_name": "Python 3",
   "language": "python",
   "name": "python3"
  },
  "language_info": {
   "codemirror_mode": {
    "name": "ipython",
    "version": 3
   },
   "file_extension": ".py",
   "mimetype": "text/x-python",
   "name": "python",
   "nbconvert_exporter": "python",
   "pygments_lexer": "ipython3",
   "version": "3.10.15"
  }
 },
 "nbformat": 4,
 "nbformat_minor": 2
}
