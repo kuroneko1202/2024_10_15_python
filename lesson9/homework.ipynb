{
 "cells": [
  {
   "cell_type": "code",
   "execution_count": null,
   "metadata": {},
   "outputs": [],
   "source": [
    "import random\n",
    "class BMI():\n",
    "    def get_name(nums:int=2)->list[str]:\n",
    "        with open('names.txt',mode='r',encoding='utf-8') as file:\n",
    "            names_str = file.read()\n",
    "        names = names_str.split()\n",
    "        names = random.choices(names,k=nums)\n",
    "        return  names\n",
    "\n",
    "\n",
    "\n",
    "        bmi = self.get_bmi()\n",
    "        if bmi >=35:\n",
    "            status = \"您的體重:重度肥胖\"\n",
    "        elif bmi >= 30:\n",
    "            status = \"您的體重:中度肥胖\"\n",
    "        elif bmi >= 27:\n",
    "            status = \"您的體重:輕度肥胖\"\n",
    "        elif bmi >= 24:\n",
    "            status = \"您的體重:過重\"\n",
    "        elif bmi >= 18.5:\n",
    "            status = \"您的體重:正常範圍\"\n",
    "        else:\n",
    "            status = \"您的體重:體重過輕\"\n",
    "        \n",
    "        return status\n",
    "\n",
    "    def generate_bmi(names:list[str])->list[BMI]:\n",
    "        BMi.name  \n",
    "        \n",
    "\n",
    "\n",
    "nums = int(input('請輸入人數:'))\n",
    "names:list[str] = BMI.get_name(nums=nums) #取得相對應人數的名字\n",
    "students:list[BMI] = BMI.generate_bmi(names=names) #取得\n",
    "\n",
    "\n",
    "    "
   ]
  }
 ],
 "metadata": {
  "kernelspec": {
   "display_name": "Python 3",
   "language": "python",
   "name": "python3"
  },
  "language_info": {
   "name": "python",
   "version": "3.10.15"
  }
 },
 "nbformat": 4,
 "nbformat_minor": 2
}
