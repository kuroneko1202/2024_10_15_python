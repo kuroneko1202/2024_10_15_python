{
 "cells": [
  {
   "cell_type": "markdown",
   "metadata": {},
   "source": [
    "#### if...else.."
   ]
  },
  {
   "cell_type": "code",
   "execution_count": 6,
   "metadata": {},
   "outputs": [
    {
     "name": "stdout",
     "output_type": "stream",
     "text": [
      "不及格\n",
      "丁\n"
     ]
    }
   ],
   "source": [
    "scores = int(input(\"請輸入學生分數0~100\"))\n",
    "if(scores >= 60):\n",
    "    print(\"及格\")\n",
    "    if(scores >=90):\n",
    "        print(\"優\")\n",
    "    else:\n",
    "        print(\"一般\")\n",
    "else:\n",
    "    print(\"不及格\") \n",
    "    if(scores >= 50):\n",
    "        print(\"丙\")\n",
    "    else:\n",
    "        print(\"丁\")"
   ]
  },
  {
   "cell_type": "code",
   "execution_count": 16,
   "metadata": {},
   "outputs": [
    {
     "name": "stdout",
     "output_type": "stream",
     "text": [
      "丁\n"
     ]
    }
   ],
   "source": [
    "scores = int(input(\"請輸入學生分數0~100\"))\n",
    "if(scores >= 90):\n",
    "    print(\"優\")\n",
    "else:\n",
    "    if(scores >= 80):\n",
    "        print(\"甲\")\n",
    "    else:\n",
    "        if(scores >=70):\n",
    "            print(\"乙\")\n",
    "        else:\n",
    "            if (scores >=60):\n",
    "                print(\"丙\")\n",
    "            else:    \n",
    "                print(\"丁\")    "
   ]
  },
  {
   "cell_type": "code",
   "execution_count": 23,
   "metadata": {},
   "outputs": [
    {
     "name": "stdout",
     "output_type": "stream",
     "text": [
      "丁\n"
     ]
    }
   ],
   "source": [
    "#多項選擇  \n",
    "scores = int(input(\"請輸入學生分數0~100\"))\n",
    "if(scores >= 90):\n",
    "    print(\"優\")\n",
    "elif(scores >= 80):\n",
    "    print(\"甲\")\n",
    "elif(scores >= 70):\n",
    "    print(\"乙\")\n",
    "elif(scores >= 60):\n",
    "    print(\"丙\")\n",
    "else:    \n",
    "    print(\"丁\")   "
   ]
  },
  {
   "cell_type": "code",
   "execution_count": 51,
   "metadata": {},
   "outputs": [
    {
     "name": "stdout",
     "output_type": "stream",
     "text": [
      "不知名的錯誤\n"
     ]
    }
   ],
   "source": [
    "try:\n",
    "    height = eval(input(\"請輸入身高(cm)\"))\n",
    "    weight = eval(input(\"請輸入體重(kg)\"))\n",
    "    bmi = weight/((height/100)**2)\n",
    "    print(f\"請輸入身高(cm):{height}\")\n",
    "    print(f\"請輸入體重(kg):{weight}\")\n",
    "    print(f\"您的BMI值是:{bmi:.1f}\")\n",
    "    if(bmi >= 35):\n",
    "        print(\"您的體重:重度肥胖\")\n",
    "    elif(bmi >= 30):\n",
    "        print(\"您的體重:中度肥胖\")\n",
    "    elif(bmi >= 27):\n",
    "        print(\"您的體重:輕度肥胖\")\n",
    "    elif(bmi >= 24):\n",
    "        print(\"您的體重:過重\")\n",
    "    elif(bmi >= 18.5):\n",
    "        print(\"您的體重:正常範圍\")\n",
    "    else:\n",
    "        print(\"您的體重:體重過輕\")                     \n",
    "except SyntaxError:\n",
    "    print(\"格式錯誤,結束程式\")\n",
    "except Exception:\n",
    "    print(\"不知名的錯誤\")"
   ]
  }
 ],
 "metadata": {
  "kernelspec": {
   "display_name": "Python 3",
   "language": "python",
   "name": "python3"
  },
  "language_info": {
   "codemirror_mode": {
    "name": "ipython",
    "version": 3
   },
   "file_extension": ".py",
   "mimetype": "text/x-python",
   "name": "python",
   "nbconvert_exporter": "python",
   "pygments_lexer": "ipython3",
   "version": "3.10.15"
  }
 },
 "nbformat": 4,
 "nbformat_minor": 2
}
