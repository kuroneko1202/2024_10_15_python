{
 "cells": [
  {
   "cell_type": "markdown",
   "metadata": {},
   "source": [
    "#### 判斷if"
   ]
  },
  {
   "cell_type": "code",
   "execution_count": 12,
   "metadata": {},
   "outputs": [
    {
     "name": "stdout",
     "output_type": "stream",
     "text": [
      "加分\n",
      "學生的分數:266\n"
     ]
    }
   ],
   "source": [
    "#學生總分數最高為300\n",
    "#如果分數超過300,就以300分為準\n",
    "#有些學生可以加分5%\n",
    "scores = eval(input(\"請輸入學生分數(最高300分):\"))\n",
    "if(scores > 300):\n",
    "    scores = 300\n",
    "is_add = input(\"學生是否符合加分條件?(y,n)\")\n",
    "if(is_add == 'y'):\n",
    "    print(\"加分\")\n",
    "    scores *= 1.05\n",
    "print(f\"學生的分數:{scores:.0f}\")\n"
   ]
  }
 ],
 "metadata": {
  "kernelspec": {
   "display_name": "Python 3",
   "language": "python",
   "name": "python3"
  },
  "language_info": {
   "codemirror_mode": {
    "name": "ipython",
    "version": 3
   },
   "file_extension": ".py",
   "mimetype": "text/x-python",
   "name": "python",
   "nbconvert_exporter": "python",
   "pygments_lexer": "ipython3",
   "version": "3.10.15"
  }
 },
 "nbformat": 4,
 "nbformat_minor": 2
}
